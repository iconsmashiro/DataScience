{
 "cells": [
  {
   "cell_type": "markdown",
   "id": "25d91b29-1bf3-4282-8729-22ffed36ef51",
   "metadata": {},
   "source": [
    "# Data Science Tools and Ecosystem"
   ]
  },
  {
   "cell_type": "markdown",
   "id": "15db944c-6daa-4bfc-be3c-fd12c92be19d",
   "metadata": {},
   "source": [
    " In this notebook, Data Science Tools and Ecosystem are summarized."
   ]
  },
  {
   "cell_type": "markdown",
   "id": "c8c4565a-86e6-4a80-9d1f-3dc83094ad95",
   "metadata": {},
   "source": [
    "**Objectives:**\n",
    "- Know the tools used in data science\n",
    "- Know what the languages used in data science\n",
    "- Know what the jobs of data scientist are"
   ]
  },
  {
   "cell_type": "markdown",
   "id": "9f826152-d946-4c88-826c-190aedf116df",
   "metadata": {},
   "source": [
    "Some of the popular languages that Data Scientists use are:\n",
    "1. R\n",
    "2. Python\n",
    "3. C++"
   ]
  },
  {
   "cell_type": "markdown",
   "id": "d9d3b54d-ff96-40fd-bf3f-ef19f7f1a983",
   "metadata": {},
   "source": [
    "Some of the commonly used libraries used by Data Scientists include:\n",
    "1. ggplot\n",
    "2. pandas\n",
    "3. sci-kit learn"
   ]
  },
  {
   "cell_type": "markdown",
   "id": "c1ebcf5a-9bd7-4e7b-a728-c60df619bd7a",
   "metadata": {},
   "source": [
    "\n",
    "|Data Science Tools|\n",
    "|-----|\n",
    "|SQL|\n",
    "|Git|\n",
    "|Apache TensorFlow|"
   ]
  },
  {
   "cell_type": "markdown",
   "id": "75243c06-2a34-4b64-9130-fde376cbb1d3",
   "metadata": {},
   "source": [
    "### Below are a few examples of evaluating arithmetic expressions in Python.\n",
    "1. 1+1 - addition\n",
    "2. 2-2 - subtraction\n",
    "3. 3*3 - multiplication\n",
    "4. 4/4 - division"
   ]
  },
  {
   "cell_type": "code",
   "execution_count": 4,
   "id": "c3c67f45-2831-47bf-a25e-78138aa2c29b",
   "metadata": {},
   "outputs": [
    {
     "data": {
      "text/plain": [
       "17"
      ]
     },
     "execution_count": 4,
     "metadata": {},
     "output_type": "execute_result"
    }
   ],
   "source": [
    "# his a simple arithmetic expression to mutiply then add integers\n",
    "(3*4) + 5"
   ]
  },
  {
   "cell_type": "code",
   "execution_count": 5,
   "id": "ae44530a-3847-423f-ba5b-d96470d3cfc8",
   "metadata": {},
   "outputs": [
    {
     "data": {
      "text/plain": [
       "3.3333333333333335"
      ]
     },
     "execution_count": 5,
     "metadata": {},
     "output_type": "execute_result"
    }
   ],
   "source": [
    "# This will convert 200 minutes to hours by diving by 60.\n",
    "200/60"
   ]
  },
  {
   "cell_type": "markdown",
   "id": "7fe23ee1-dc7f-46a1-b663-885a0fc0be01",
   "metadata": {},
   "source": [
    "# Author\n",
    "Lakshmi Holla\n",
    "\n",
    "Niveditha Pandith"
   ]
  },
  {
   "cell_type": "code",
   "execution_count": null,
   "id": "a7785f11-d2b1-499f-8fe2-1b98b7f56f90",
   "metadata": {},
   "outputs": [],
   "source": []
  }
 ],
 "metadata": {
  "kernelspec": {
   "display_name": "Python 3 (ipykernel)",
   "language": "python",
   "name": "python3"
  },
  "language_info": {
   "codemirror_mode": {
    "name": "ipython",
    "version": 3
   },
   "file_extension": ".py",
   "mimetype": "text/x-python",
   "name": "python",
   "nbconvert_exporter": "python",
   "pygments_lexer": "ipython3",
   "version": "3.12.4"
  }
 },
 "nbformat": 4,
 "nbformat_minor": 5
}
